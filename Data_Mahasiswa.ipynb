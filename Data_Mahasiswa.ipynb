{
 "cells": [
  {
   "cell_type": "code",
   "execution_count": 61,
   "id": "eb60ca55-ceb8-4031-b414-e0ab6d3f23f9",
   "metadata": {},
   "outputs": [],
   "source": [
    "# Import library\n",
    "from sklearn.decomposition import PCA\n",
    "from sklearn.preprocessing import StandardScaler\n",
    "import numpy as np\n",
    "import seaborn as sns\n",
    "import matplotlib.pyplot as plt\n",
    "import pandas as pd"
   ]
  },
  {
   "cell_type": "code",
   "execution_count": 63,
   "id": "6971355d-379c-4c35-903b-97d8ab87ee5e",
   "metadata": {},
   "outputs": [],
   "source": [
    "# Load Dataset\n",
    "df = pd.read_csv(\"Data_Mahasiswa.csv\", delimiter=';')"
   ]
  },
  {
   "cell_type": "code",
   "execution_count": 85,
   "id": "dccf3793-e31b-4866-a1cb-978b8fe83a5d",
   "metadata": {},
   "outputs": [
    {
     "name": "stdout",
     "output_type": "stream",
     "text": [
      "Email Address                                                                                                                                          object\n",
      "Nama Lengkap Mahasiswa                                                                                                                                 object\n",
      "NIM                                                                                                                                                    object\n",
      "Program Studi Mahasiswa                                                                                                                                object\n",
      "Angkatan Mahasiswa                                                                                                                                     object\n",
      "Berapa lama waktu yang Anda habiskan menggunakan laptop setiap hari?                                                                                   object\n",
      "Apakah Anda biasanya menggunakan media sosial melalui laptop?                                                                                          object\n",
      "Berapa lama waktu yang Anda habiskan menggunakan media sosial melalui Laptop setiap hari?                                                              object\n",
      "Media sosial apa yang Anda aktifkan saat menggunakan laptop? (Centang semua yang sesuai)                                                               object\n",
      "Jenis konten apa yang paling sering Anda tonton atau akses di media sosial Instagram melalui laptop? (Hubungkan dengan media sosial yang dipilih)      object\n",
      "Jenis konten apa yang paling sering Anda tonton atau akses di media sosial TikTok melalui laptop? (Hubungkan dengan media sosial yang dipilih)         object\n",
      "Jenis konten apa yang paling sering Anda tonton atau akses di media sosial Youtube melalui laptop? (Hubungkan dengan media sosial yang dipilih)        object\n",
      "Berapa lama waktu yang Anda habiskan menggunakan ponsel setiap hari?                                                                                   object\n",
      "Apakah Anda biasanya menggunakan media sosial melalui ponsel?                                                                                          object\n",
      "Berapa lama waktu yang Anda habiskan menggunakan media sosial melalui Ponsel setiap hari?                                                              object\n",
      "Media sosial apa yang Anda aktifkan saat menggunakan ponsel?                                                                                           object\n",
      "Jenis konten apa yang paling sering Anda tonton atau akses di media sosial Instagram melalui ponsel? (Hubungkan dengan media sosial yang dipilih)      object\n",
      "Jenis konten apa yang paling sering Anda tonton atau akses di media sosial TikTok melalui ponsel? (Hubungkan dengan media sosial yang dipilih)         object\n",
      "Jenis konten apa yang paling sering Anda tonton atau akses di media sosial Youtube melalui ponsel? (Hubungkan dengan media sosial yang dipilih)        object\n",
      "Apakah Anda pernah bergabung dengan Organisasi Kampus? ( Khususnya BEM atau MPM)                                                                       object\n",
      "Organisasi Apa yang pernah anda ikuti ?                                                                                                                object\n",
      "Departemen apa yang pernah Anda ikuti ?                                                                                                                object\n",
      "Apakah Anda terlibat dalam salah satu atau lebih UKM?                                                                                                  object\n",
      " UKM apa yang pernah anada ikuti ? (Dapat memilih lebih dari satu)                                                                                     object\n",
      "Apakah Anda pernah mengikuti program kursus atau bootcamp?                                                                                             object\n",
      "Apa jenis kursus atau bootcamp yang pernah anda ikuti?                                                                                                 object\n",
      "Berapa rata-rata peringkat Anda di kelas pada jenjang SD(Sekolah Dasar)?                                                                               object\n",
      "Berapa rata-rata peringkat Anda di kelas pada jenjang SMP( Sekolah Menengah Pertama )?                                                                 object\n",
      "Berapa rata-rata peringkat Anda di kelas pada jenjang SMA( Sekolah Menengah Atas  )?                                                                   object\n",
      "Berapa rata-rata nilai Matematika Anda pada Ujian Sekolah (nilai Ijazah) di SMA?                                                                       object\n",
      "Berapa rata-rata nilai Fisika Anda pada Ujian Sekolah (nilai Ijazah) di SMA? ( jika sebelumnya berasal dari IPS atau SMK bisa memilih range D)         object\n",
      "Berapa rata-rata nilai Biologi Anda pada Ujian Sekolah (nilai Ijazah)  di SMA?  ( jika sebelumnya berasal dari IPS atau SMK bisa memilih range D)      object\n",
      "Berapa rata-rata nilai Kimia Anda pada Ujian Sekolah (nilai Ijazah)  di SMA?  ( jika sebelumnya berasal dari IPS atau SMK bisa memilih range D)        object\n",
      "Apakah Anda pernah mengikuti olimpiade atau kompetisi akademik?                                                                                        object\n",
      "Tingkat manakah Anda mengikuti olimpiade?                                                                                                              object\n",
      "Berapa jumlah saudara yang Anda miliki?                                                                                                                object\n",
      "Apa Pekerjaan Ayah Anda?                                                                                                                               object\n",
      "Apa Pendidikan Terakhir Ayah Anda?                                                                                                                     object\n",
      "Berapa Range Penghasilan Ayah Anda?                                                                                                                    object\n",
      "Apa Pekerjaan Ibu Anda?                                                                                                                                object\n",
      "Apa Pendidikan Terakhir Ibu Anda?                                                                                                                      object\n",
      "Berapa Rentang Penghasilan Ibu Anda?                                                                                                                   object\n",
      "Programming Skill                                                                                                                                       int64\n",
      "dtype: object\n"
     ]
    }
   ],
   "source": [
    "# Cek tipe data\n",
    "print(df.dtypes)"
   ]
  },
  {
   "cell_type": "code",
   "execution_count": 87,
   "id": "d10190bf-feb1-42d7-9889-01f405aa8347",
   "metadata": {},
   "outputs": [],
   "source": [
    "# Pilih hanya kolom numerik\n",
    "df_numeric = df.select_dtypes(include=[np.number])"
   ]
  },
  {
   "cell_type": "code",
   "execution_count": 89,
   "id": "781efc8c-7d67-4f61-a687-50ebdbb705d2",
   "metadata": {},
   "outputs": [],
   "source": [
    "# Jika tidak ada kolom numerik, lakukan encoding pada kolom kategorikal\n",
    "if df_numeric.shape[1] == 0:\n",
    "    label_encoders = {}\n",
    "    for col in df.columns:\n",
    "        if df[col].dtype == 'object':  # Hanya encode kolom kategorikal\n",
    "            le = LabelEncoder()\n",
    "            df[col] = le.fit_transform(df[col])\n",
    "            label_encoders[col] = le\n",
    "\n",
    "    # Pilih kembali kolom numerik setelah encoding\n",
    "    df_numeric = df.select_dtypes(include=[np.number])"
   ]
  },
  {
   "cell_type": "code",
   "execution_count": 91,
   "id": "a18bd543-8f98-4bc1-87a5-3bc4a792e457",
   "metadata": {},
   "outputs": [],
   "source": [
    "# Standarisasi data\n",
    "scaler = StandardScaler()\n",
    "X_scaled = scaler.fit_transform(df_numeric)"
   ]
  },
  {
   "cell_type": "code",
   "execution_count": 97,
   "id": "28ddcb9a-070b-432a-9794-b02e65523ed3",
   "metadata": {},
   "outputs": [
    {
     "name": "stdout",
     "output_type": "stream",
     "text": [
      "\n",
      "Matriks Kovarians:\n",
      "1.00197628458498\n"
     ]
    }
   ],
   "source": [
    "# Covariance Matrix (Matriks Kovarians)\n",
    "cov_matrix = np.cov(X_scaled, rowvar=False)\n",
    "print(\"\\nMatriks Kovarians:\")\n",
    "print(cov_matrix)"
   ]
  },
  {
   "cell_type": "code",
   "execution_count": 99,
   "id": "8ec456ac-979d-447e-8340-494bc8d48995",
   "metadata": {},
   "outputs": [
    {
     "name": "stdout",
     "output_type": "stream",
     "text": [
      "\n",
      "Variansi yang dijelaskan oleh komponen pertama: 100.00%\n"
     ]
    }
   ],
   "source": [
    "# Variance (Variansi)\n",
    "print(f\"\\nVariansi yang dijelaskan oleh komponen pertama: {pca.explained_variance_ratio_[0]:.2%}\")"
   ]
  },
  {
   "cell_type": "code",
   "execution_count": 93,
   "id": "8430ca36-d773-4714-a69d-02066aea2997",
   "metadata": {},
   "outputs": [],
   "source": [
    "# PCA dengan 1 komponen\n",
    "pca = PCA(n_components=1)\n",
    "X_pca = pca.fit_transform(X_scaled)"
   ]
  },
  {
   "cell_type": "code",
   "execution_count": 103,
   "id": "56547854-bc2e-4b15-8e71-54840fcdbce6",
   "metadata": {},
   "outputs": [
    {
     "name": "stdout",
     "output_type": "stream",
     "text": [
      "\n",
      "Principal Components (Komponen Utama):\n",
      "[[ 1.07658956]\n",
      " [-0.99269357]\n",
      " [ 1.15322967]\n",
      " [ 1.61307037]\n",
      " [ 0.08026805]\n",
      " [-1.45253427]\n",
      " [-0.68613311]\n",
      " [-0.37957265]\n",
      " [ 0.15690817]\n",
      " [ 1.38315002]]\n"
     ]
    }
   ],
   "source": [
    "# Principal Components (Komponen Utama)\n",
    "print(\"\\nPrincipal Components (Komponen Utama):\")\n",
    "print(X_pca[:10]) "
   ]
  },
  {
   "cell_type": "code",
   "execution_count": 95,
   "id": "30ba4688-14b3-4802-abca-97ff12f01cee",
   "metadata": {},
   "outputs": [
    {
     "data": {
      "image/png": "[encoded data removed]",
      "text/plain": [
       "<Figure size 800x500 with 1 Axes>"
      ]
     },
     "metadata": {},
     "output_type": "display_data"
    }
   ],
   "source": [
    "# Visualisasi hasil PCA dalam bentuk histogram\n",
    "plt.figure(figsize=(8, 5))\n",
    "plt.hist(X_pca, bins=20, color='blue', alpha=0.7)\n",
    "plt.xlabel(\"Nilai PCA\")\n",
    "plt.ylabel(\"Frekuensi\")\n",
    "plt.title(\"Distribusi Nilai PCA (1 Komponen)\")\n",
    "plt.show()"
   ]
  },
  {
   "cell_type": "code",
   "execution_count": null,
   "id": "af23234b-e6d0-41aa-ad09-bcfe02ec5f4b",
   "metadata": {},
   "outputs": [],
   "source": []
  }
 ],
 "metadata": {
  "kernelspec": {
   "display_name": "Python 3 (ipykernel)",
   "language": "python",
   "name": "python3"
  },
  "language_info": {
   "codemirror_mode": {
    "name": "ipython",
    "version": 3
   },
   "file_extension": ".py",
   "mimetype": "text/x-python",
   "name": "python",
   "nbconvert_exporter": "python",
   "pygments_lexer": "ipython3",
   "version": "3.12.4"
  }
 },
 "nbformat": 4,
 "nbformat_minor": 5
}
